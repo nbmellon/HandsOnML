{
 "cells": [
  {
   "cell_type": "markdown",
   "metadata": {},
   "source": [
    "1. A group of statistical techniques that allows computers to classify and predict based on prior examples, past knowledge, or reward calculations"
   ]
  },
  {
   "cell_type": "markdown",
   "metadata": {},
   "source": [
    "2. Classifying objects, predicting prices of houses, exploring environments, reducing information to lower dimensions"
   ]
  },
  {
   "cell_type": "markdown",
   "metadata": {},
   "source": [
    "3. Its a set of objects or examples that have associated labels describing what they are. The model \"trains\" on these examples"
   ]
  },
  {
   "cell_type": "markdown",
   "metadata": {},
   "source": [
    "4. Classification and Prediction"
   ]
  },
  {
   "cell_type": "markdown",
   "metadata": {},
   "source": [
    "5. Dimensionality reduction, clustering, visualization, anomaly detection"
   ]
  },
  {
   "cell_type": "markdown",
   "metadata": {},
   "source": [
    "6. Reinforcement Learning"
   ]
  },
  {
   "cell_type": "markdown",
   "metadata": {},
   "source": [
    "7. Clustering or classification"
   ]
  },
  {
   "cell_type": "markdown",
   "metadata": {},
   "source": [
    "8. Supervised learning"
   ]
  },
  {
   "cell_type": "markdown",
   "metadata": {},
   "source": [
    "9. An online learning system takes in data and updates the model while the model is working/\"online\" (it keeps learning as new data comes in)"
   ]
  },
  {
   "cell_type": "markdown",
   "metadata": {},
   "source": [
    "10. Out-of-core learning is a type of learning set-up in which dataset does not fit in the main memory, so in an \"online\" way, model takes in part of data, learns, then takes in next part of data, etc."
   ]
  },
  {
   "cell_type": "markdown",
   "metadata": {},
   "source": [
    "11. Instance based learning "
   ]
  },
  {
   "cell_type": "markdown",
   "metadata": {},
   "source": [
    "12. Parameter is something that the model itself is learning, hyperparameter is a variable selected by the user/engineer at the start that controls some aspect of model training/learning."
   ]
  },
  {
   "cell_type": "markdown",
   "metadata": {},
   "source": [
    "13. They try to minimize a cost function usually (gradient descent is common). They make predictions by feeding an example in, then the model outputs a value or class"
   ]
  },
  {
   "cell_type": "markdown",
   "metadata": {},
   "source": [
    "14. Insufficient Training Data, Poor Quality Data, Overfitting, Underfitting"
   ]
  },
  {
   "cell_type": "markdown",
   "metadata": {},
   "source": [
    "15. Overfitting is happening. You can try to add some sort of regularization (simplify model), gather more training data, or reduce noise in training data."
   ]
  },
  {
   "cell_type": "markdown",
   "metadata": {},
   "source": [
    "16. Test set is a set of data not included in training that you want to test the model on to see how well it performs. It is a good measure for how model will perform in deployment"
   ]
  },
  {
   "cell_type": "markdown",
   "metadata": {},
   "source": [
    "17. Validation set is a set of data used during training as an approximation to the test set (but the model doesn't actually include its data in the training data), so that you can see how well the model is doing as it is training."
   ]
  },
  {
   "cell_type": "markdown",
   "metadata": {},
   "source": [
    "18. The train-dev set is a set of data that is taken from the training data in the case where the actual data for validation/testing is limited and training data may not be representative of the testing data. You should use this set after training and evaluate the model on this set. If the model performs poorly, then it must have overfit on the training set. However, if it performs well on this but not well on actual dev set, then you know there is a problem with data mismatch from train to val."
   ]
  },
  {
   "cell_type": "markdown",
   "metadata": {},
   "source": [
    "19. It may overfit to the test set and not generalize to other relevant data. The model also becomes dependent on the test data which means reporting scores on the test data does not really make sense as there is a bias"
   ]
  }
 ],
 "metadata": {
  "kernelspec": {
   "display_name": "Python 3",
   "language": "python",
   "name": "python3"
  },
  "language_info": {
   "name": "python",
   "version": "3.11.4"
  }
 },
 "nbformat": 4,
 "nbformat_minor": 2
}
